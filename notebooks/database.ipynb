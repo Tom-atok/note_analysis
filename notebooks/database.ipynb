{
 "cells": [
  {
   "cell_type": "code",
   "execution_count": 3,
   "metadata": {},
   "outputs": [],
   "source": [
    "import sys\n",
    "import os\n",
    "\n",
    "if 'root_dir' not in globals():\n",
    "    # rootディレクトリへのパスを設定\n",
    "    root_dir = os.path.abspath(os.path.join(os.getcwd(), '../'))\n",
    "    os.chdir(root_dir)\n"
   ]
  },
  {
   "cell_type": "code",
   "execution_count": 4,
   "metadata": {},
   "outputs": [
    {
     "name": "stdout",
     "output_type": "stream",
     "text": [
      "2024-06-02 18:29:36,555 INFO sqlalchemy.engine.Engine BEGIN (implicit)\n",
      "2024-06-02 18:29:36,556 INFO sqlalchemy.engine.Engine PRAGMA main.table_info(\"notes\")\n",
      "2024-06-02 18:29:36,556 INFO sqlalchemy.engine.Engine [raw sql] ()\n",
      "2024-06-02 18:29:36,557 INFO sqlalchemy.engine.Engine PRAGMA temp.table_info(\"notes\")\n",
      "2024-06-02 18:29:36,557 INFO sqlalchemy.engine.Engine [raw sql] ()\n",
      "2024-06-02 18:29:36,558 INFO sqlalchemy.engine.Engine \n",
      "CREATE TABLE notes (\n",
      "\tid INTEGER, \n",
      "\tuser_id INTEGER, \n",
      "\tstatus TEXT, \n",
      "\ttype TEXT, \n",
      "\t\"key\" VARCHAR NOT NULL, \n",
      "\tslug TEXT, \n",
      "\tname TEXT, \n",
      "\tbody TEXT, \n",
      "\tcreated_at DATETIME, \n",
      "\tcan_read BOOLEAN, \n",
      "\tuser_key TEXT, \n",
      "\turlname TEXT, \n",
      "\tnickname TEXT, \n",
      "\tnote_count INTEGER, \n",
      "\tuser_created_at DATETIME, \n",
      "\ttokenized_body TEXT, \n",
      "\tPRIMARY KEY (\"key\"), \n",
      "\tUNIQUE (\"key\")\n",
      ")\n",
      "\n",
      "\n",
      "2024-06-02 18:29:36,558 INFO sqlalchemy.engine.Engine [no key 0.00041s] ()\n",
      "2024-06-02 18:29:36,560 INFO sqlalchemy.engine.Engine COMMIT\n"
     ]
    },
    {
     "name": "stderr",
     "output_type": "stream",
     "text": [
      "/var/folders/xq/9pq38rcj7l179qz2bf_8ms5m0000gn/T/ipykernel_14463/1526204800.py:11: MovedIn20Warning: The ``declarative_base()`` function is now available as sqlalchemy.orm.declarative_base(). (deprecated since: 2.0) (Background on SQLAlchemy 2.0 at: https://sqlalche.me/e/b8d9)\n",
      "  Base = declarative_base()\n"
     ]
    }
   ],
   "source": [
    "import pandas as pd\n",
    "import sqlite3\n",
    "from sqlalchemy import create_engine, Column, Integer, String, Text, Boolean, DateTime\n",
    "from sqlalchemy.ext.declarative import declarative_base\n",
    "from sqlalchemy.orm import sessionmaker\n",
    "\n",
    "# データベースエンジンの作成（例：SQLite）\n",
    "engine = create_engine('sqlite:///data/user_all_post.db', echo=True)\n",
    "\n",
    "# Base クラスの作成\n",
    "Base = declarative_base()\n",
    "\n",
    "# Notes クラスの定義\n",
    "class Notes(Base):\n",
    "    __tablename__ = 'notes'\n",
    "    \n",
    "    id = Column(Integer)\n",
    "    user_id = Column(Integer)\n",
    "    status = Column(Text)\n",
    "    type = Column(Text)\n",
    "    key = Column(String, primary_key=True, unique=True)\n",
    "    slug = Column(Text)\n",
    "    name = Column(Text)\n",
    "    body = Column(Text)\n",
    "    created_at = Column(DateTime)\n",
    "    can_read = Column(Boolean)\n",
    "    user_key = Column(Text)\n",
    "    urlname = Column(Text)\n",
    "    nickname = Column(Text)\n",
    "    note_count = Column(Integer)\n",
    "    user_created_at = Column(DateTime)\n",
    "    tokenized_body = Column(Text)\n",
    "\n",
    "# テーブルの作成\n",
    "Base.metadata.create_all(engine)"
   ]
  }
 ],
 "metadata": {
  "kernelspec": {
   "display_name": ".venv",
   "language": "python",
   "name": "python3"
  },
  "language_info": {
   "codemirror_mode": {
    "name": "ipython",
    "version": 3
   },
   "file_extension": ".py",
   "mimetype": "text/x-python",
   "name": "python",
   "nbconvert_exporter": "python",
   "pygments_lexer": "ipython3",
   "version": "3.10.8"
  }
 },
 "nbformat": 4,
 "nbformat_minor": 2
}
