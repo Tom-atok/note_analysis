{
 "cells": [
  {
   "cell_type": "code",
   "execution_count": 1,
   "metadata": {},
   "outputs": [],
   "source": [
    "import sys\n",
    "import os\n",
    "\n",
    "if 'root_dir' not in globals():\n",
    "    # rootディレクトリへのパスを設定\n",
    "    root_dir = os.path.abspath(os.path.join(os.getcwd(), '../'))\n",
    "    os.chdir(root_dir)\n",
    "\n"
   ]
  },
  {
   "cell_type": "code",
   "execution_count": 11,
   "metadata": {},
   "outputs": [],
   "source": [
    "query = 'オーガニック'"
   ]
  },
  {
   "cell_type": "markdown",
   "metadata": {},
   "source": [
    "# 記事を取得する"
   ]
  },
  {
   "cell_type": "code",
   "execution_count": null,
   "metadata": {},
   "outputs": [],
   "source": [
    "# 自作したコードをimportする\n",
    "from my_codes import fetch_articles\n"
   ]
  },
  {
   "cell_type": "code",
   "execution_count": null,
   "metadata": {},
   "outputs": [],
   "source": [
    "query_keys_all_df, selected_all_user_data = fetch_articles.main(\n",
    "    query = query, size=100, batches=10000,interval=1\n",
    ")"
   ]
  },
  {
   "cell_type": "markdown",
   "metadata": {},
   "source": [
    "# 前処理をする"
   ]
  },
  {
   "cell_type": "code",
   "execution_count": 37,
   "metadata": {},
   "outputs": [],
   "source": [
    "from my_codes import preprocessing"
   ]
  },
  {
   "cell_type": "code",
   "execution_count": null,
   "metadata": {},
   "outputs": [],
   "source": [
    "preprocessing.main(query=query)"
   ]
  },
  {
   "cell_type": "markdown",
   "metadata": {},
   "source": [
    "# データベースに保存する"
   ]
  },
  {
   "cell_type": "code",
   "execution_count": 15,
   "metadata": {},
   "outputs": [
    {
     "name": "stdout",
     "output_type": "stream",
     "text": [
      "2024-06-02 18:55:09,321 INFO sqlalchemy.engine.Engine BEGIN (implicit)\n",
      "2024-06-02 18:55:09,321 INFO sqlalchemy.engine.Engine PRAGMA main.table_info(\"notes\")\n",
      "2024-06-02 18:55:09,322 INFO sqlalchemy.engine.Engine [raw sql] ()\n",
      "2024-06-02 18:55:09,322 INFO sqlalchemy.engine.Engine COMMIT\n"
     ]
    },
    {
     "name": "stderr",
     "output_type": "stream",
     "text": [
      "/var/folders/xq/9pq38rcj7l179qz2bf_8ms5m0000gn/T/ipykernel_15313/1348950832.py:10: MovedIn20Warning: The ``declarative_base()`` function is now available as sqlalchemy.orm.declarative_base(). (deprecated since: 2.0) (Background on SQLAlchemy 2.0 at: https://sqlalche.me/e/b8d9)\n",
      "  Base = declarative_base()\n"
     ]
    }
   ],
   "source": [
    "import pandas as pd\n",
    "from sqlalchemy import create_engine, Column, Integer, String, Text, Boolean, DateTime\n",
    "from sqlalchemy.ext.declarative import declarative_base\n",
    "from sqlalchemy.orm import sessionmaker\n",
    "\n",
    "# データベースエンジンの作成（例：SQLite）\n",
    "engine = create_engine('sqlite:///data/user_all_post.db', echo=True)\n",
    "\n",
    "# Base クラスの作成\n",
    "Base = declarative_base()\n",
    "\n",
    "# Notes クラスの定義\n",
    "class Notes(Base):\n",
    "    __tablename__ = 'notes'\n",
    "    \n",
    "    id = Column(Integer)\n",
    "    user_id = Column(Integer)\n",
    "    status = Column(Text)\n",
    "    type = Column(Text)\n",
    "    key = Column(String, primary_key=True, unique=True)\n",
    "    slug = Column(Text)\n",
    "    name = Column(Text)\n",
    "    body = Column(Text)\n",
    "    created_at = Column(DateTime)\n",
    "    can_read = Column(Boolean)\n",
    "    user_key = Column(Text)\n",
    "    urlname = Column(Text)\n",
    "    nickname = Column(Text)\n",
    "    note_count = Column(Integer)\n",
    "    user_created_at = Column(DateTime)\n",
    "    tokenized_body = Column(Text)\n",
    "\n",
    "# テーブルの作成\n",
    "Base.metadata.create_all(engine, checkfirst=True)\n",
    "\n",
    "# セッションの作成\n",
    "Session = sessionmaker(bind=engine)\n",
    "session = Session()"
   ]
  },
  {
   "cell_type": "code",
   "execution_count": 20,
   "metadata": {},
   "outputs": [
    {
     "name": "stdout",
     "output_type": "stream",
     "text": [
      "2024-06-02 18:55:59,179 INFO sqlalchemy.engine.Engine SELECT notes.\"key\" AS notes_key \n",
      "FROM notes\n",
      "2024-06-02 18:55:59,180 INFO sqlalchemy.engine.Engine [cached since 44.61s ago] ()\n",
      "2024-06-02 18:55:59,334 INFO sqlalchemy.engine.Engine ROLLBACK\n"
     ]
    }
   ],
   "source": [
    "# ORMを使って特定のカラムを取得\n",
    "database_keys = session.query(Notes.key).all()\n",
    "session.close()\n",
    "# リストをDataFrameに変換\n",
    "df_database = pd.DataFrame(database_keys, columns=['key'])"
   ]
  },
  {
   "cell_type": "code",
   "execution_count": 17,
   "metadata": {},
   "outputs": [],
   "source": [
    "# CSV ファイルのパス\n",
    "csv_file_path = f'data/{query}/{query}_data_preprocessed.csv'\n",
    "# CSV ファイルの読み込み\n",
    "df = pd.read_csv(csv_file_path, index_col=0)"
   ]
  },
  {
   "cell_type": "code",
   "execution_count": 22,
   "metadata": {},
   "outputs": [
    {
     "name": "stdout",
     "output_type": "stream",
     "text": [
      "新しいデータはありません。\n"
     ]
    }
   ],
   "source": [
    "# データベースに存在しないデータを取得\n",
    "new_df = df[~df['key'].isin(df_database['key'])]\n",
    "\n",
    "# 新しいデータをデータベースに挿入\n",
    "if not new_df.empty:\n",
    "    new_df.to_sql('notes', con=engine, if_exists='append', index=False)\n",
    "else:\n",
    "    print(\"新しいデータはありません。\")"
   ]
  }
 ],
 "metadata": {
  "kernelspec": {
   "display_name": ".venv",
   "language": "python",
   "name": "python3"
  },
  "language_info": {
   "codemirror_mode": {
    "name": "ipython",
    "version": 3
   },
   "file_extension": ".py",
   "mimetype": "text/x-python",
   "name": "python",
   "nbconvert_exporter": "python",
   "pygments_lexer": "ipython3",
   "version": "3.10.8"
  }
 },
 "nbformat": 4,
 "nbformat_minor": 2
}
