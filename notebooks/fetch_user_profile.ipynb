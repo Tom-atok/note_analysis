{
 "cells": [
  {
   "cell_type": "code",
   "execution_count": null,
   "metadata": {},
   "outputs": [],
   "source": [
    "import sys\n",
    "import os\n",
    "from datetime import datetime\n",
    "import logging\n",
    "import pandas as pd\n",
    "import ast\n",
    "\n",
    "if 'root_dir' not in globals():\n",
    "    # rootディレクトリへのパスを設定\n",
    "    global root_dir\n",
    "    root_dir = os.path.abspath(os.path.join(os.getcwd(), '../'))\n",
    "    os.chdir(root_dir)\n",
    "\n",
    "# Configure logging\n",
    "logging.basicConfig(level=logging.INFO, format='%(asctime)s - %(levelname)s - %(message)s')\n",
    "logger = logging.getLogger(__name__)"
   ]
  },
  {
   "cell_type": "code",
   "execution_count": null,
   "metadata": {},
   "outputs": [],
   "source": [
    "search_words = ['ヴィーガン','ビーガン']\n",
    "#search_words = '_'.join(search_words)\n",
    "now = datetime.now()\n",
    "font_path = '/usr/share/fonts/opentype/noto/NotoSansCJK-Regular.ttc'\n",
    "\n",
    "# フォーマットを指定して文字列に変換\n",
    "#now = now.strftime(\"%Y%m%d%H%M%S\")\n",
    "#now = 20240821104549"
   ]
  },
  {
   "cell_type": "code",
   "execution_count": null,
   "metadata": {},
   "outputs": [],
   "source": [
    "#データベースへ接続するエンジンを作成\n",
    "from my_codes.database_setting import Engine\n",
    "from my_codes.database_setting import Base\n",
    "\n",
    "#データベースのテーブルとマッピングする\n",
    "from my_codes.notes_database import Notes\n",
    "\n",
    "from sqlalchemy.orm import sessionmaker\n",
    "from sqlalchemy import func\n",
    "from sqlalchemy import or_, and_\n",
    "\n",
    "#セッションを作成\n",
    "Session = sessionmaker(bind=Engine)\n",
    "session = Session()"
   ]
  },
  {
   "cell_type": "code",
   "execution_count": null,
   "metadata": {},
   "outputs": [],
   "source": [
    "\n",
    "#特定のクエリを持つデータのユーザー名を抽出する\n",
    "def search_notes(session, search_words):\n",
    "    \"\"\"\n",
    "    Searches for notes containing any of the specified keywords.\n",
    "\n",
    "    Args:\n",
    "    - session: SQLAlchemy session object\n",
    "    - search_words: List of keywords to search for in the notes\n",
    "\n",
    "    Returns:\n",
    "    - DataFrame containing the search results\n",
    "    \"\"\"\n",
    "    # Construct the filter conditions using or_\n",
    "    filter_conditions = or_(*(Notes.tokenized_body.like(f'%{word}%') for word in search_words))\n",
    "    \n",
    "    # Perform the query with the constructed filter conditions\n",
    "    result = session.query(Notes.key, Notes.urlname)\\\n",
    "                    .filter(filter_conditions)\n",
    "    \n",
    "    # Convert the result to a DataFrame\n",
    "    data = pd.DataFrame(result, columns=['key','urlname'])\n",
    "    \n",
    "    # Log the search results\n",
    "    logging.info(\"Notes containing '%s' found: %d records\", \", \".join(search_words), len(data))\n",
    "    \n",
    "    # Close the session\n",
    "    session.close()\n",
    "    \n",
    "    return data"
   ]
  },
  {
   "cell_type": "code",
   "execution_count": null,
   "metadata": {},
   "outputs": [],
   "source": [
    "data = search_notes(session, search_words)"
   ]
  },
  {
   "cell_type": "code",
   "execution_count": null,
   "metadata": {},
   "outputs": [],
   "source": [
    "#ユニークなurlnameを取得\n",
    "urlnames = data['urlname'].unique()"
   ]
  },
  {
   "cell_type": "code",
   "execution_count": null,
   "metadata": {},
   "outputs": [],
   "source": [
    "urlnames.shape"
   ]
  },
  {
   "cell_type": "code",
   "execution_count": null,
   "metadata": {},
   "outputs": [],
   "source": [
    "#`https://note.com/api/v2/creators/{urlname}` でユーザー情報を取得できる\n",
    "#上記のURLにアクセスして、ユーザー情報を全て取得する\n",
    "import requests\n",
    "import json\n",
    "import time\n",
    "\n",
    "def get_user_info(urlname):\n",
    "    \"\"\"\n",
    "    Gets the user information for the specified URL name.\n",
    "\n",
    "    Args:\n",
    "    - urlname: URL name of the user\n",
    "\n",
    "    Returns:\n",
    "    - Dictionary containing the user information\n",
    "    \"\"\"\n",
    "    # Construct the URL\n",
    "    url = f'https://note.com/api/v2/creators/{urlname}'\n",
    "    \n",
    "    # Send the request\n",
    "    response = requests.get(url)\n",
    "    \n",
    "    # Check if the request was successful\n",
    "    if response.status_code == 200:\n",
    "        # Parse the response as JSON\n",
    "        user_info = json.loads(response.text)\n",
    "        \n",
    "        # Log the user information\n",
    "        logging.info(\"User information retrieved for '%s'\", urlname)\n",
    "        \n",
    "        # Pause for 0.1 second to avoid overloading the server\n",
    "        time.sleep(0.1)\n",
    "        \n",
    "        return {urlname: user_info}\n",
    "    else:\n",
    "        # Log the error\n",
    "        logging.error(\"Failed to retrieve user information for '%s'\", urlname)\n",
    "        \n",
    "        return {urlname: None}\n",
    "\n",
    "#urlnamesに入っているすべてのユーザー情報を取得\n",
    "user_info = [get_user_info(urlname) for urlname in urlnames]\n"
   ]
  },
  {
   "cell_type": "code",
   "execution_count": null,
   "metadata": {},
   "outputs": [],
   "source": [
    "#ユーザー情報を確認する\n",
    "user_info[0]"
   ]
  },
  {
   "cell_type": "code",
   "execution_count": null,
   "metadata": {},
   "outputs": [],
   "source": [
    "# Noneとなっているurlnameを取得\n",
    "none_urlnames = [list(info.keys())[0] for info in user_info if info[list(info.keys())[0]] is None]"
   ]
  },
  {
   "cell_type": "code",
   "execution_count": null,
   "metadata": {},
   "outputs": [],
   "source": [
    "none_urlnames\n",
    "# noneとなっているユーザーは多分アカウントが削除されている"
   ]
  },
  {
   "cell_type": "code",
   "execution_count": null,
   "metadata": {},
   "outputs": [],
   "source": [
    "# search_wordsを`_`で接続して，ファイル名を作成\n",
    "'_'.join(search_words)"
   ]
  },
  {
   "cell_type": "code",
   "execution_count": null,
   "metadata": {},
   "outputs": [],
   "source": [
    "# ユーザー情報を保存する\n",
    "with open(f\"data/user_info_{'_'.join(search_words)}.json\", 'w') as f:\n",
    "    json.dump(user_info, f, ensure_ascii=False, indent=4)\n"
   ]
  },
  {
   "cell_type": "code",
   "execution_count": null,
   "metadata": {},
   "outputs": [],
   "source": []
  }
 ],
 "metadata": {
  "kernelspec": {
   "display_name": ".venv",
   "language": "python",
   "name": "python3"
  },
  "language_info": {
   "codemirror_mode": {
    "name": "ipython",
    "version": 3
   },
   "file_extension": ".py",
   "mimetype": "text/x-python",
   "name": "python",
   "nbconvert_exporter": "python",
   "pygments_lexer": "ipython3",
   "version": "3.12.7"
  }
 },
 "nbformat": 4,
 "nbformat_minor": 2
}
